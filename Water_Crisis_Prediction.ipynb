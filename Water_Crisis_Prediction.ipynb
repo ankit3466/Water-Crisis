{
  "nbformat": 4,
  "nbformat_minor": 0,
  "metadata": {
    "colab": {
      "name": "Water_Crisis_Prediction",
      "version": "0.3.2",
      "provenance": [],
      "collapsed_sections": []
    },
    "kernelspec": {
      "name": "python3",
      "display_name": "Python 3"
    }
  },
  "cells": [
    {
      "cell_type": "code",
      "metadata": {
        "id": "PkKJQOlX3jmJ",
        "colab_type": "code",
        "colab": {
          "base_uri": "https://localhost:8080/",
          "height": 34
        },
        "outputId": "f7022f86-7a60-4d5a-fd11-6e18ee04e8d2"
      },
      "source": [
        "import numpy as np\n",
        "import matplotlib.pyplot as plt\n",
        "import pandas as pd\n",
        "\n",
        "from google.colab import drive\n",
        "drive.mount('/content/MyDrive')"
      ],
      "execution_count": 4,
      "outputs": [
        {
          "output_type": "stream",
          "text": [
            "Drive already mounted at /content/MyDrive; to attempt to forcibly remount, call drive.mount(\"/content/MyDrive\", force_remount=True).\n"
          ],
          "name": "stdout"
        }
      ]
    },
    {
      "cell_type": "code",
      "metadata": {
        "id": "DKIGiHEy3q1K",
        "colab_type": "code",
        "colab": {}
      },
      "source": [
        "import os\n",
        "os.getcwd()\n",
        "os.chdir('/content/MyDrive/My Drive/Rnn')"
      ],
      "execution_count": 0,
      "outputs": []
    },
    {
      "cell_type": "code",
      "metadata": {
        "id": "tQv6J6t838cI",
        "colab_type": "code",
        "colab": {
          "base_uri": "https://localhost:8080/",
          "height": 204
        },
        "outputId": "cbedc5fc-1207-4797-ff82-02c05779346a"
      },
      "source": [
        "data=pd.read_csv('chennai_reservoir_levels.csv')\n",
        "data=data.tail(2500)\n",
        "data=data.reset_index()\n",
        "data.head()"
      ],
      "execution_count": 209,
      "outputs": [
        {
          "output_type": "execute_result",
          "data": {
            "text/html": [
              "<div>\n",
              "<style scoped>\n",
              "    .dataframe tbody tr th:only-of-type {\n",
              "        vertical-align: middle;\n",
              "    }\n",
              "\n",
              "    .dataframe tbody tr th {\n",
              "        vertical-align: top;\n",
              "    }\n",
              "\n",
              "    .dataframe thead th {\n",
              "        text-align: right;\n",
              "    }\n",
              "</style>\n",
              "<table border=\"1\" class=\"dataframe\">\n",
              "  <thead>\n",
              "    <tr style=\"text-align: right;\">\n",
              "      <th></th>\n",
              "      <th>index</th>\n",
              "      <th>Date</th>\n",
              "      <th>POONDI</th>\n",
              "      <th>CHOLAVARAM</th>\n",
              "      <th>REDHILLS</th>\n",
              "      <th>CHEMBARAMBAKKAM</th>\n",
              "    </tr>\n",
              "  </thead>\n",
              "  <tbody>\n",
              "    <tr>\n",
              "      <th>0</th>\n",
              "      <td>3147</td>\n",
              "      <td>13-08-2012</td>\n",
              "      <td>849.0</td>\n",
              "      <td>85.0</td>\n",
              "      <td>1381.0</td>\n",
              "      <td>1231.0</td>\n",
              "    </tr>\n",
              "    <tr>\n",
              "      <th>1</th>\n",
              "      <td>3148</td>\n",
              "      <td>14-08-2012</td>\n",
              "      <td>837.0</td>\n",
              "      <td>85.0</td>\n",
              "      <td>1381.0</td>\n",
              "      <td>1259.0</td>\n",
              "    </tr>\n",
              "    <tr>\n",
              "      <th>2</th>\n",
              "      <td>3149</td>\n",
              "      <td>15-08-2012</td>\n",
              "      <td>832.0</td>\n",
              "      <td>85.0</td>\n",
              "      <td>1384.0</td>\n",
              "      <td>1274.0</td>\n",
              "    </tr>\n",
              "    <tr>\n",
              "      <th>3</th>\n",
              "      <td>3150</td>\n",
              "      <td>16-08-2012</td>\n",
              "      <td>832.0</td>\n",
              "      <td>85.0</td>\n",
              "      <td>1384.0</td>\n",
              "      <td>1283.0</td>\n",
              "    </tr>\n",
              "    <tr>\n",
              "      <th>4</th>\n",
              "      <td>3151</td>\n",
              "      <td>17-08-2012</td>\n",
              "      <td>825.0</td>\n",
              "      <td>85.0</td>\n",
              "      <td>1384.0</td>\n",
              "      <td>1289.0</td>\n",
              "    </tr>\n",
              "  </tbody>\n",
              "</table>\n",
              "</div>"
            ],
            "text/plain": [
              "   index        Date  POONDI  CHOLAVARAM  REDHILLS  CHEMBARAMBAKKAM\n",
              "0   3147  13-08-2012   849.0        85.0    1381.0           1231.0\n",
              "1   3148  14-08-2012   837.0        85.0    1381.0           1259.0\n",
              "2   3149  15-08-2012   832.0        85.0    1384.0           1274.0\n",
              "3   3150  16-08-2012   832.0        85.0    1384.0           1283.0\n",
              "4   3151  17-08-2012   825.0        85.0    1384.0           1289.0"
            ]
          },
          "metadata": {
            "tags": []
          },
          "execution_count": 209
        }
      ]
    },
    {
      "cell_type": "code",
      "metadata": {
        "id": "zSr5Wgzl4AdX",
        "colab_type": "code",
        "colab": {}
      },
      "source": [
        "from statsmodels.tsa.arima_model import ARMA, ARIMA"
      ],
      "execution_count": 0,
      "outputs": []
    },
    {
      "cell_type": "code",
      "metadata": {
        "id": "2ATgQmIj4Twg",
        "colab_type": "code",
        "colab": {}
      },
      "source": [
        "from sklearn.metrics import mean_squared_error, r2_score, mean_absolute_error, median_absolute_error, mean_squared_log_error"
      ],
      "execution_count": 0,
      "outputs": []
    },
    {
      "cell_type": "code",
      "metadata": {
        "id": "Rb5Vma26C3_D",
        "colab_type": "code",
        "colab": {}
      },
      "source": [
        "data['label']=0"
      ],
      "execution_count": 0,
      "outputs": []
    },
    {
      "cell_type": "code",
      "metadata": {
        "id": "gn4iqnpOHM6P",
        "colab_type": "code",
        "colab": {}
      },
      "source": [
        "data['Avg']=0"
      ],
      "execution_count": 0,
      "outputs": []
    },
    {
      "cell_type": "code",
      "metadata": {
        "id": "RAbe55FkI9nR",
        "colab_type": "code",
        "colab": {
          "base_uri": "https://localhost:8080/",
          "height": 102
        },
        "outputId": "04a344a0-59c8-4b70-de01-9a95b15c25cc"
      },
      "source": [
        "for i in range(2500):\n",
        "  data['Avg'][i] = (data['POONDI'][i]+data['CHOLAVARAM'][i]+data['REDHILLS'][i]+data['CHEMBARAMBAKKAM'][i] ) / 4.0"
      ],
      "execution_count": 219,
      "outputs": [
        {
          "output_type": "stream",
          "text": [
            "/usr/local/lib/python3.6/dist-packages/ipykernel_launcher.py:2: SettingWithCopyWarning: \n",
            "A value is trying to be set on a copy of a slice from a DataFrame\n",
            "\n",
            "See the caveats in the documentation: http://pandas.pydata.org/pandas-docs/stable/indexing.html#indexing-view-versus-copy\n",
            "  \n"
          ],
          "name": "stderr"
        }
      ]
    },
    {
      "cell_type": "code",
      "metadata": {
        "id": "S4KQoyLJJTUB",
        "colab_type": "code",
        "colab": {
          "base_uri": "https://localhost:8080/",
          "height": 187
        },
        "outputId": "5fbfcad9-fce0-424e-b321-842c1ed42201"
      },
      "source": [
        "for i in  range(2500):\n",
        "  if data['Avg'][i]<=1000:\n",
        "    data['label'][i]=1\n",
        "  else:\n",
        "    data['label'][i]=0\n",
        "    \n",
        "  "
      ],
      "execution_count": 220,
      "outputs": [
        {
          "output_type": "stream",
          "text": [
            "/usr/local/lib/python3.6/dist-packages/ipykernel_launcher.py:3: SettingWithCopyWarning: \n",
            "A value is trying to be set on a copy of a slice from a DataFrame\n",
            "\n",
            "See the caveats in the documentation: http://pandas.pydata.org/pandas-docs/stable/indexing.html#indexing-view-versus-copy\n",
            "  This is separate from the ipykernel package so we can avoid doing imports until\n",
            "/usr/local/lib/python3.6/dist-packages/ipykernel_launcher.py:5: SettingWithCopyWarning: \n",
            "A value is trying to be set on a copy of a slice from a DataFrame\n",
            "\n",
            "See the caveats in the documentation: http://pandas.pydata.org/pandas-docs/stable/indexing.html#indexing-view-versus-copy\n",
            "  \"\"\"\n"
          ],
          "name": "stderr"
        }
      ]
    },
    {
      "cell_type": "code",
      "metadata": {
        "id": "Nxv4nuVqW6VU",
        "colab_type": "code",
        "colab": {}
      },
      "source": [
        "#divide into train and validation set\n",
        "train = data.head(1000)\n",
        "valid = data.tail(400)"
      ],
      "execution_count": 0,
      "outputs": []
    },
    {
      "cell_type": "code",
      "metadata": {
        "id": "7dWUIJ0UTwzY",
        "colab_type": "code",
        "colab": {}
      },
      "source": [
        "# ARIMA example\n",
        "from statsmodels.tsa.arima_model import ARIMA\n",
        "from sklearn.metrics import mean_squared_error\n",
        "from math import sqrt\n",
        "\n",
        "from statsmodels.tsa.arima_model import ARIMA\n",
        "model = ARIMA(train['Avg'], order=(4,1,0))"
      ],
      "execution_count": 0,
      "outputs": []
    },
    {
      "cell_type": "code",
      "metadata": {
        "id": "qfoFvZmFJi3-",
        "colab_type": "code",
        "colab": {}
      },
      "source": [
        "model_fit = model.fit(disp=1)"
      ],
      "execution_count": 0,
      "outputs": []
    },
    {
      "cell_type": "code",
      "metadata": {
        "id": "GAOo6I4lJi8i",
        "colab_type": "code",
        "colab": {
          "base_uri": "https://localhost:8080/",
          "height": 418
        },
        "outputId": "c9426af6-a039-4a09-b92d-3ac5c18a86bb"
      },
      "source": [
        "model_fit.summary()"
      ],
      "execution_count": 223,
      "outputs": [
        {
          "output_type": "execute_result",
          "data": {
            "text/html": [
              "<table class=\"simpletable\">\n",
              "<caption>ARIMA Model Results</caption>\n",
              "<tr>\n",
              "  <th>Dep. Variable:</th>       <td>D.Avg</td>      <th>  No. Observations:  </th>    <td>999</td>   \n",
              "</tr>\n",
              "<tr>\n",
              "  <th>Model:</th>          <td>ARIMA(4, 1, 0)</td>  <th>  Log Likelihood     </th> <td>-5208.783</td>\n",
              "</tr>\n",
              "<tr>\n",
              "  <th>Method:</th>             <td>css-mle</td>     <th>  S.D. of innovations</th>  <td>44.472</td>  \n",
              "</tr>\n",
              "<tr>\n",
              "  <th>Date:</th>          <td>Sun, 11 Aug 2019</td> <th>  AIC                </th> <td>10429.567</td>\n",
              "</tr>\n",
              "<tr>\n",
              "  <th>Time:</th>              <td>02:06:31</td>     <th>  BIC                </th> <td>10459.007</td>\n",
              "</tr>\n",
              "<tr>\n",
              "  <th>Sample:</th>                <td>1</td>        <th>  HQIC               </th> <td>10440.757</td>\n",
              "</tr>\n",
              "<tr>\n",
              "  <th></th>                       <td> </td>        <th>                     </th>     <td> </td>    \n",
              "</tr>\n",
              "</table>\n",
              "<table class=\"simpletable\">\n",
              "<tr>\n",
              "       <td></td>          <th>coef</th>     <th>std err</th>      <th>z</th>      <th>P>|z|</th>  <th>[0.025</th>    <th>0.975]</th>  \n",
              "</tr>\n",
              "<tr>\n",
              "  <th>const</th>       <td>    0.6348</td> <td>    2.576</td> <td>    0.246</td> <td> 0.805</td> <td>   -4.413</td> <td>    5.683</td>\n",
              "</tr>\n",
              "<tr>\n",
              "  <th>ar.L1.D.Avg</th> <td>   -0.1475</td> <td>    0.031</td> <td>   -4.741</td> <td> 0.000</td> <td>   -0.209</td> <td>   -0.087</td>\n",
              "</tr>\n",
              "<tr>\n",
              "  <th>ar.L2.D.Avg</th> <td>    0.1566</td> <td>    0.030</td> <td>    5.176</td> <td> 0.000</td> <td>    0.097</td> <td>    0.216</td>\n",
              "</tr>\n",
              "<tr>\n",
              "  <th>ar.L3.D.Avg</th> <td>    0.2699</td> <td>    0.030</td> <td>    8.924</td> <td> 0.000</td> <td>    0.211</td> <td>    0.329</td>\n",
              "</tr>\n",
              "<tr>\n",
              "  <th>ar.L4.D.Avg</th> <td>    0.1764</td> <td>    0.031</td> <td>    5.677</td> <td> 0.000</td> <td>    0.115</td> <td>    0.237</td>\n",
              "</tr>\n",
              "</table>\n",
              "<table class=\"simpletable\">\n",
              "<caption>Roots</caption>\n",
              "<tr>\n",
              "    <td></td>   <th>            Real</th>  <th>         Imaginary</th> <th>         Modulus</th>  <th>        Frequency</th>\n",
              "</tr>\n",
              "<tr>\n",
              "  <th>AR.1</th> <td>           1.2437</td> <td>          -0.0000j</td> <td>           1.2437</td> <td>          -0.0000</td>\n",
              "</tr>\n",
              "<tr>\n",
              "  <th>AR.2</th> <td>          -0.4987</td> <td>          -1.5222j</td> <td>           1.6018</td> <td>          -0.3004</td>\n",
              "</tr>\n",
              "<tr>\n",
              "  <th>AR.3</th> <td>          -0.4987</td> <td>          +1.5222j</td> <td>           1.6018</td> <td>           0.3004</td>\n",
              "</tr>\n",
              "<tr>\n",
              "  <th>AR.4</th> <td>          -1.7767</td> <td>          -0.0000j</td> <td>           1.7767</td> <td>          -0.5000</td>\n",
              "</tr>\n",
              "</table>"
            ],
            "text/plain": [
              "<class 'statsmodels.iolib.summary.Summary'>\n",
              "\"\"\"\n",
              "                             ARIMA Model Results                              \n",
              "==============================================================================\n",
              "Dep. Variable:                  D.Avg   No. Observations:                  999\n",
              "Model:                 ARIMA(4, 1, 0)   Log Likelihood               -5208.783\n",
              "Method:                       css-mle   S.D. of innovations             44.472\n",
              "Date:                Sun, 11 Aug 2019   AIC                          10429.567\n",
              "Time:                        02:06:31   BIC                          10459.007\n",
              "Sample:                             1   HQIC                         10440.757\n",
              "                                                                              \n",
              "===============================================================================\n",
              "                  coef    std err          z      P>|z|      [0.025      0.975]\n",
              "-------------------------------------------------------------------------------\n",
              "const           0.6348      2.576      0.246      0.805      -4.413       5.683\n",
              "ar.L1.D.Avg    -0.1475      0.031     -4.741      0.000      -0.209      -0.087\n",
              "ar.L2.D.Avg     0.1566      0.030      5.176      0.000       0.097       0.216\n",
              "ar.L3.D.Avg     0.2699      0.030      8.924      0.000       0.211       0.329\n",
              "ar.L4.D.Avg     0.1764      0.031      5.677      0.000       0.115       0.237\n",
              "                                    Roots                                    \n",
              "=============================================================================\n",
              "                  Real          Imaginary           Modulus         Frequency\n",
              "-----------------------------------------------------------------------------\n",
              "AR.1            1.2437           -0.0000j            1.2437           -0.0000\n",
              "AR.2           -0.4987           -1.5222j            1.6018           -0.3004\n",
              "AR.3           -0.4987           +1.5222j            1.6018            0.3004\n",
              "AR.4           -1.7767           -0.0000j            1.7767           -0.5000\n",
              "-----------------------------------------------------------------------------\n",
              "\"\"\""
            ]
          },
          "metadata": {
            "tags": []
          },
          "execution_count": 223
        }
      ]
    },
    {
      "cell_type": "code",
      "metadata": {
        "id": "_hp6hTibJjAJ",
        "colab_type": "code",
        "colab": {}
      },
      "source": [
        "start_index = valid.index.min()\n",
        "end_index = valid.index.max()\n",
        "\n",
        "#Predictions\n",
        "predictions = model_fit.predict(start=start_index, end=end_index)"
      ],
      "execution_count": 0,
      "outputs": []
    },
    {
      "cell_type": "code",
      "metadata": {
        "id": "Z-c7DAJsJizi",
        "colab_type": "code",
        "colab": {}
      },
      "source": [
        "y = data.set_index('Date')\n",
        "data=data.set_index('Date')"
      ],
      "execution_count": 0,
      "outputs": []
    },
    {
      "cell_type": "code",
      "metadata": {
        "id": "VJkgR4znMvwc",
        "colab_type": "code",
        "colab": {
          "base_uri": "https://localhost:8080/",
          "height": 170
        },
        "outputId": "83ad8bb5-7629-42fd-f323-bd84040adcdd"
      },
      "source": [
        "predictions[1:9]"
      ],
      "execution_count": 226,
      "outputs": [
        {
          "output_type": "execute_result",
          "data": {
            "text/plain": [
              "1001   -0.383713\n",
              "1002   -0.372494\n",
              "1003   -0.098063\n",
              "1004    0.026920\n",
              "1005    0.158199\n",
              "1006    0.234458\n",
              "1007    0.325906\n",
              "1008    0.381837\n",
              "dtype: float64"
            ]
          },
          "metadata": {
            "tags": []
          },
          "execution_count": 226
        }
      ]
    },
    {
      "cell_type": "code",
      "metadata": {
        "id": "gGNVoEuvXxPB",
        "colab_type": "code",
        "colab": {}
      },
      "source": [
        "mse=mean_squared_error(valid['Avg'],predictions) "
      ],
      "execution_count": 0,
      "outputs": []
    },
    {
      "cell_type": "code",
      "metadata": {
        "id": "T9jD6i6wNOQw",
        "colab_type": "code",
        "colab": {
          "base_uri": "https://localhost:8080/",
          "height": 34
        },
        "outputId": "d3c45c7b-5de2-4313-c01a-e50ece026377"
      },
      "source": [
        "rmse = sqrt(mse)\n",
        "print('RMSE: {}, MSE:{}'.format(rmse,mse))"
      ],
      "execution_count": 228,
      "outputs": [
        {
          "output_type": "stream",
          "text": [
            "RMSE: 378.15136327280436, MSE:142998.45354508047\n"
          ],
          "name": "stdout"
        }
      ]
    },
    {
      "cell_type": "code",
      "metadata": {
        "id": "HP4URP8SQWdX",
        "colab_type": "code",
        "colab": {
          "base_uri": "https://localhost:8080/",
          "height": 102
        },
        "outputId": "e93a7824-cac2-4d71-9c60-34406761439a"
      },
      "source": [
        "predictions_ARIMA_diff = pd.Series(predictions, copy=True)\n",
        "print (predictions_ARIMA_diff.head(4))"
      ],
      "execution_count": 229,
      "outputs": [
        {
          "output_type": "stream",
          "text": [
            "1000   -0.971737\n",
            "1001   -0.383713\n",
            "1002   -0.372494\n",
            "1003   -0.098063\n",
            "dtype: float64\n"
          ],
          "name": "stdout"
        }
      ]
    },
    {
      "cell_type": "code",
      "metadata": {
        "id": "Cr1MZsipQopm",
        "colab_type": "code",
        "colab": {
          "base_uri": "https://localhost:8080/",
          "height": 54
        },
        "outputId": "f5aeb7fa-15bf-4d72-cd75-ebbb343179ff"
      },
      "source": [
        "predictions=list(predictions)\n",
        "for i in range(len(predictions)):\n",
        "  if predictions[i]<0.5:\n",
        "    predictions[i]=0\n",
        "  else:\n",
        "    predictions[i]=1\n",
        "print(predictions)    "
      ],
      "execution_count": 230,
      "outputs": [
        {
          "output_type": "stream",
          "text": [
            "[0, 0, 0, 0, 0, 0, 0, 0, 0, 0, 0, 1, 1, 1, 1, 1, 1, 1, 1, 1, 1, 1, 1, 1, 1, 1, 1, 1, 1, 1, 1, 1, 1, 1, 1, 1, 1, 1, 1, 1, 1, 1, 1, 1, 1, 1, 1, 1, 1, 1, 1, 1, 1, 1, 1, 1, 1, 1, 1, 1, 1, 1, 1, 1, 1, 1, 1, 1, 1, 1, 1, 1, 1, 1, 1, 1, 1, 1, 1, 1, 1, 1, 1, 1, 1, 1, 1, 1, 1, 1, 1, 1, 1, 1, 1, 1, 1, 1, 1, 1, 1, 1, 1, 1, 1, 1, 1, 1, 1, 1, 1, 1, 1, 1, 1, 1, 1, 1, 1, 1, 1, 1, 1, 1, 1, 1, 1, 1, 1, 1, 1, 1, 1, 1, 1, 1, 1, 1, 1, 1, 1, 1, 1, 1, 1, 1, 1, 1, 1, 1, 1, 1, 1, 1, 1, 1, 1, 1, 1, 1, 1, 1, 1, 1, 1, 1, 1, 1, 1, 1, 1, 1, 1, 1, 1, 1, 1, 1, 1, 1, 1, 1, 1, 1, 1, 1, 1, 1, 1, 1, 1, 1, 1, 1, 1, 1, 1, 1, 1, 1, 1, 1, 1, 1, 1, 1, 1, 1, 1, 1, 1, 1, 1, 1, 1, 1, 1, 1, 1, 1, 1, 1, 1, 1, 1, 1, 1, 1, 1, 1, 1, 1, 1, 1, 1, 1, 1, 1, 1, 1, 1, 1, 1, 1, 1, 1, 1, 1, 1, 1, 1, 1, 1, 1, 1, 1, 1, 1, 1, 1, 1, 1, 1, 1, 1, 1, 1, 1, 1, 1, 1, 1, 1, 1, 1, 1, 1, 1, 1, 1, 1, 1, 1, 1, 1, 1, 1, 1, 1, 1, 1, 1, 1, 1, 1, 1, 1, 1, 1, 1, 1, 1, 1, 1, 1, 1, 1, 1, 1, 1, 1, 1, 1, 1, 1, 1, 1, 1, 1, 1, 1, 1, 1, 1, 1, 1, 1, 1, 1, 1, 1, 1, 1, 1, 1, 1, 1, 1, 1, 1, 1, 1, 1, 1, 1, 1, 1, 1, 1, 1, 1, 1, 1, 1, 1, 1, 1, 1, 1, 1, 1, 1, 1, 1, 1, 1, 1, 1, 1, 1, 1, 1, 1, 1, 1, 1, 1, 1, 1, 1, 1, 1, 1, 1, 1, 1, 1, 1, 1, 1, 1, 1, 1, 1, 1, 1, 1, 1, 1, 1]\n"
          ],
          "name": "stdout"
        }
      ]
    },
    {
      "cell_type": "code",
      "metadata": {
        "id": "5Ju3OThKRyGt",
        "colab_type": "code",
        "colab": {}
      },
      "source": [
        ""
      ],
      "execution_count": 0,
      "outputs": []
    },
    {
      "cell_type": "code",
      "metadata": {
        "id": "v0p-K6wZRXtm",
        "colab_type": "code",
        "colab": {}
      },
      "source": [
        ""
      ],
      "execution_count": 0,
      "outputs": []
    },
    {
      "cell_type": "code",
      "metadata": {
        "id": "Feu3phcIRSQF",
        "colab_type": "code",
        "colab": {}
      },
      "source": [
        ""
      ],
      "execution_count": 0,
      "outputs": []
    }
  ]
}